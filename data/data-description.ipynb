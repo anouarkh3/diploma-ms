{
 "cells": [
  {
   "cell_type": "code",
   "execution_count": 4,
   "id": "ce7e7bdf-20d1-4a16-aa34-c0b72d725596",
   "metadata": {},
   "outputs": [
    {
     "name": "stdout",
     "output_type": "stream",
     "text": [
      "Control Group:\n",
      "    max=220.64s, \n",
      "    min=0.00s,\n",
      "    mean=80.42s, \n",
      "    SD=71.09s\n",
      "Patient Group:\n",
      "    max=209.27s, \n",
      "    min=0.00s,\n",
      "    mean=81.57s, \n",
      "    SD=63.48s\n"
     ]
    }
   ],
   "source": [
    "import librosa\n",
    "from pathlib import Path\n",
    "import pandas as pd\n",
    "import statistics\n",
    "from statistics import mean \n",
    "\n",
    "# Lists to store durations for patients and control groups\n",
    "patients_dur = []\n",
    "control_dur = []\n",
    "\n",
    "def get_duration(file_path, ls):\n",
    "    \"\"\"Calculate and store duration of an audio file.\n",
    "    \n",
    "    Args:\n",
    "        file_path: Path to the audio file\n",
    "        ls: List to store the duration (either patients_dur or control_dur)\n",
    "    \"\"\"\n",
    "    duration = librosa.get_duration(path=file_path)\n",
    "    ls.append(duration)\n",
    "\n",
    "# Path to the directory containing all audio files\n",
    "p = Path(\"all_denoised_audio_files\")  # Update this with your actual folder path\n",
    "\n",
    "# Process all .wav files in the directory\n",
    "for file in p.glob(\"*.wav\"):\n",
    "    filename = file.name.lower()  # Convert to lowercase for case-insensitive matching\n",
    "    \n",
    "    # Classify files based on their naming pattern\n",
    "    if \"hc\" in filename:  # 'hc' indicates healthy control\n",
    "        get_duration(str(file), control_dur)\n",
    "    elif \"pd\" in filename:  # 'pd' indicates patient with Parkinson's disease\n",
    "        get_duration(str(file), patients_dur)\n",
    "\n",
    "# Print statistics for control group (if any files were found)\n",
    "if control_dur:\n",
    "    print(f\"\"\"Control Group:\n",
    "    max={max(control_dur):.2f}s, \n",
    "    min={min(control_dur):.2f}s,\n",
    "    mean={mean(control_dur):.2f}s, \n",
    "    SD={statistics.pstdev(control_dur):.2f}s\"\"\")\n",
    "else:\n",
    "    print(\"No control group files found (hc)\")\n",
    "\n",
    "# Print statistics for patient group (if any files were found)\n",
    "if patients_dur:\n",
    "    print(f\"\"\"Patient Group:\n",
    "    max={max(patients_dur):.2f}s, \n",
    "    min={min(patients_dur):.2f}s,\n",
    "    mean={mean(patients_dur):.2f}s, \n",
    "    SD={statistics.pstdev(patients_dur):.2f}s\"\"\")\n",
    "else:\n",
    "    print(\"No patient group files found (pd)\")"
   ]
  }
 ],
 "metadata": {
  "kernelspec": {
   "display_name": "sc-new-g1YLDtZZ-py3.12",
   "language": "python",
   "name": "sc-new-g1yldtzz-py3.12"
  },
  "language_info": {
   "codemirror_mode": {
    "name": "ipython",
    "version": 3
   },
   "file_extension": ".py",
   "mimetype": "text/x-python",
   "name": "python",
   "nbconvert_exporter": "python",
   "pygments_lexer": "ipython3",
   "version": "3.12.3"
  }
 },
 "nbformat": 4,
 "nbformat_minor": 5
}
