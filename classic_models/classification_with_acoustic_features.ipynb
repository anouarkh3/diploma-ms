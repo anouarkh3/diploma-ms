{
 "cells": [
  {
   "cell_type": "code",
   "execution_count": 14,
   "id": "2f1e4a97-219c-48ff-a0c1-ae29e422fbc0",
   "metadata": {},
   "outputs": [],
   "source": [
    "import pandas as pd \n",
    "import numpy as np\n",
    "import joblib\n",
    "import seaborn as sns\n",
    "from matplotlib import style\n",
    "import matplotlib.pyplot as plt\n",
    "from sklearn.inspection import permutation_importance\n",
    "%matplotlib inline\n",
    "\n",
    "from sklearn.linear_model import LogisticRegression\n",
    "from sklearn.svm import SVC\n",
    "from sklearn.preprocessing import StandardScaler, LabelEncoder\n",
    "from sklearn import tree \n",
    "from sklearn.metrics import classification_report, confusion_matrix, accuracy_score, precision_score, recall_score, f1_score, make_scorer, RocCurveDisplay, roc_auc_score\n",
    "from sklearn.ensemble import RandomForestClassifier\n",
    "from sklearn.model_selection import train_test_split, cross_val_score, GridSearchCV, LeaveOneOut, cross_val_predict\n",
    "from xgboost import XGBClassifier\n",
    "\n",
    "import warnings\n",
    "warnings.filterwarnings(\"ignore\")\n",
    "\n",
    "df = pd.read_csv('results/all_audio_features.csv')\n",
    "df = df.drop(columns = ['file_name'])\n",
    "\n",
    "X = df.drop(columns = ['group'])\n",
    "y = df['group']\n",
    "\n",
    "label_encoder = LabelEncoder()\n",
    "y_encoded = label_encoder.fit_transform(y)\n",
    "\n",
    "normalizer = StandardScaler()\n",
    "normalizer.fit(X)\n",
    "scaled_features = normalizer.transform(X)\n",
    "X = pd.DataFrame(scaled_features, index=X.index, columns=X.columns)\n",
    "\n",
    "X_train, X_test, y_train, y_test = train_test_split(\n",
    "    X, y_encoded, test_size=0.2, random_state=42, stratify=y_encoded\n",
    ")\n"
   ]
  },
  {
   "cell_type": "code",
   "execution_count": 15,
   "id": "ffa472d8-b118-4eed-a6c4-18a6ef32c54e",
   "metadata": {},
   "outputs": [],
   "source": [
    "def evaluate_model_with_loo(model, X_test, y_test, show_roc=False):\n",
    "    \"\"\"\n",
    "    Evaluate a model using Leave-One-Out cross-validation\n",
    "    \"\"\"\n",
    "    # Initialize Leave-One-Out cross-validator\n",
    "    loo = LeaveOneOut()\n",
    "    \n",
    "    # Get predictions and predicted probabilities\n",
    "    y_pred_loo = cross_val_predict(model, X_test, y_test, cv=loo)\n",
    "    y_proba_loo = cross_val_predict(model, X_test, y_test, cv=loo, method='predict_proba')[:, 1]\n",
    "    \n",
    "    # Calculate evaluation metrics\n",
    "    metrics = {\n",
    "        'accuracy': accuracy_score(y_test, y_pred_loo),\n",
    "        'precision': precision_score(y_test, y_pred_loo),\n",
    "        'recall': recall_score(y_test, y_pred_loo),\n",
    "        'f1': f1_score(y_test, y_pred_loo),\n",
    "        'roc_auc': roc_auc_score(y_test, y_proba_loo),\n",
    "        'confusion_matrix': confusion_matrix(y_test, y_pred_loo)\n",
    "    }\n",
    "    \n",
    "    # Print evaluation results\n",
    "    print(\"=== LOO Validation Metrics ===\")\n",
    "    print(f\"Accuracy: {metrics['accuracy']:.4f}\")\n",
    "    print(f\"Precision: {metrics['precision']:.4f}\")\n",
    "    print(f\"Recall: {metrics['recall']:.4f}\")\n",
    "    print(f\"F1-Score: {metrics['f1']:.4f}\")\n",
    "    print(f\"ROC AUC: {metrics['roc_auc']:.4f}\")\n",
    "    print(\"\\nClassification Report:\")\n",
    "    print(classification_report(y_test, y_pred_loo))\n",
    "    \n",
    "    # Display ROC curve if requested\n",
    "    if show_roc:\n",
    "        RocCurveDisplay.from_predictions(y_test, y_proba_loo)\n",
    "        plt.title(\"ROC Curve (Leave-One-Out Validation)\")\n",
    "        plt.show()\n",
    "    \n",
    "    return metrics"
   ]
  },
  {
   "cell_type": "markdown",
   "id": "f3d238ee-d9ad-424d-b6ee-ce6fef4ec179",
   "metadata": {},
   "source": [
    "# LogisticRegression"
   ]
  },
  {
   "cell_type": "code",
   "execution_count": 16,
   "id": "e203bdad-4e76-4950-abd5-a7c2d9ecc1a9",
   "metadata": {},
   "outputs": [
    {
     "name": "stdout",
     "output_type": "stream",
     "text": [
      "=== LOO Validation Metrics ===\n",
      "Accuracy: 0.8667\n",
      "Precision: 0.8333\n",
      "Recall: 0.8333\n",
      "F1-Score: 0.8333\n",
      "ROC AUC: 0.8519\n",
      "\n",
      "Classification Report:\n",
      "              precision    recall  f1-score   support\n",
      "\n",
      "           0       0.89      0.89      0.89         9\n",
      "           1       0.83      0.83      0.83         6\n",
      "\n",
      "    accuracy                           0.87        15\n",
      "   macro avg       0.86      0.86      0.86        15\n",
      "weighted avg       0.87      0.87      0.87        15\n",
      "\n"
     ]
    }
   ],
   "source": [
    "np.random.seed(42)\n",
    "log_reg = LogisticRegression(max_iter=1000, random_state=42)\n",
    "log_reg.fit(X_train, y_train)\n",
    "metrics = evaluate_model_with_loo(log_reg, X_test, y_test)"
   ]
  },
  {
   "cell_type": "markdown",
   "id": "d8fbb120-36a8-431f-96d8-c0adf51f4de9",
   "metadata": {},
   "source": [
    "# RandomForestClassifier"
   ]
  },
  {
   "cell_type": "code",
   "execution_count": 17,
   "id": "9b143e0c-2af7-404b-b0c1-845fe65ec8a1",
   "metadata": {},
   "outputs": [
    {
     "name": "stdout",
     "output_type": "stream",
     "text": [
      "=== LOO Validation Metrics ===\n",
      "Accuracy: 0.6667\n",
      "Precision: 0.6667\n",
      "Recall: 0.3333\n",
      "F1-Score: 0.4444\n",
      "ROC AUC: 0.7130\n",
      "\n",
      "Classification Report:\n",
      "              precision    recall  f1-score   support\n",
      "\n",
      "           0       0.67      0.89      0.76         9\n",
      "           1       0.67      0.33      0.44         6\n",
      "\n",
      "    accuracy                           0.67        15\n",
      "   macro avg       0.67      0.61      0.60        15\n",
      "weighted avg       0.67      0.67      0.63        15\n",
      "\n"
     ]
    }
   ],
   "source": [
    "np.random.seed(42)\n",
    "rf0 = RandomForestClassifier()\n",
    "rf0.fit(X_train, y_train)\n",
    "metrics = evaluate_model_with_loo(rf0, X_test, y_test)"
   ]
  },
  {
   "cell_type": "markdown",
   "id": "247b0a1c-4ae6-4594-8255-587108122faa",
   "metadata": {},
   "source": [
    "# XGBClassifier"
   ]
  },
  {
   "cell_type": "code",
   "execution_count": 18,
   "id": "3131fe87-9235-425f-907b-6223a795c289",
   "metadata": {},
   "outputs": [
    {
     "name": "stdout",
     "output_type": "stream",
     "text": [
      "=== LOO Validation Metrics ===\n",
      "Accuracy: 0.6667\n",
      "Precision: 0.6667\n",
      "Recall: 0.3333\n",
      "F1-Score: 0.4444\n",
      "ROC AUC: 0.7407\n",
      "\n",
      "Classification Report:\n",
      "              precision    recall  f1-score   support\n",
      "\n",
      "           0       0.67      0.89      0.76         9\n",
      "           1       0.67      0.33      0.44         6\n",
      "\n",
      "    accuracy                           0.67        15\n",
      "   macro avg       0.67      0.61      0.60        15\n",
      "weighted avg       0.67      0.67      0.63        15\n",
      "\n"
     ]
    }
   ],
   "source": [
    "np.random.seed(42)\n",
    "xgboost = XGBClassifier(random_state=42, eval_metric='logloss', use_label_encoder=False)\n",
    "xgboost.fit(X_train, y_train)\n",
    "metrics = evaluate_model_with_loo(xgboost, X_test, y_test)"
   ]
  }
 ],
 "metadata": {
  "kernelspec": {
   "display_name": "sc-new-g1YLDtZZ-py3.12",
   "language": "python",
   "name": "sc-new-g1yldtzz-py3.12"
  },
  "language_info": {
   "codemirror_mode": {
    "name": "ipython",
    "version": 3
   },
   "file_extension": ".py",
   "mimetype": "text/x-python",
   "name": "python",
   "nbconvert_exporter": "python",
   "pygments_lexer": "ipython3",
   "version": "3.12.3"
  }
 },
 "nbformat": 4,
 "nbformat_minor": 5
}
